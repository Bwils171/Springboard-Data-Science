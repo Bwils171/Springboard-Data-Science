{
 "cells": [
  {
   "cell_type": "markdown",
   "metadata": {
    "colab_type": "text",
    "id": "Tia3MP1SJpgj"
   },
   "source": [
    "# Springboard Data Science Career Track Unit 4 Challenge - Tier 3 Complete\n",
    "\n",
    "## Objectives\n",
    "Hey! Great job getting through those challenging DataCamp courses. You're learning a lot in a short span of time. \n",
    "\n",
    "In this notebook, you're going to apply the skills you've been learning, bridging the gap between the controlled environment of DataCamp and the *slightly* messier work that data scientists do with actual datasets!\n",
    "\n",
    "Here’s the mystery we’re going to solve: ***which boroughs of London have seen the greatest increase in housing prices, on average, over the last two decades?***\n",
    "\n",
    "\n",
    "A borough is just a fancy word for district. You may be familiar with the five boroughs of New York… well, there are 32 boroughs within Greater London [(here's some info for the curious)](https://en.wikipedia.org/wiki/London_boroughs). Some of them are more desirable areas to live in, and the data will reflect that with a greater rise in housing prices.\n",
    "\n",
    "***This is the Tier 3 notebook, which means it's not filled in at all: we'll just give you the skeleton of a project, the brief and the data. It's up to you to play around with it and see what you can find out! Good luck! If you struggle, feel free to look at easier tiers for help; but try to dip in and out of them, as the more independent work you do, the better it is for your learning!***\n",
    "\n",
    "This challenge will make use of only what you learned in the following DataCamp courses: \n",
    "- Prework courses (Introduction to Python for Data Science, Intermediate Python for Data Science)\n",
    "- Data Types for Data Science\n",
    "- Python Data Science Toolbox (Part One) \n",
    "- pandas Foundations\n",
    "- Manipulating DataFrames with pandas\n",
    "- Merging DataFrames with pandas\n",
    "\n",
    "Of the tools, techniques and concepts in the above DataCamp courses, this challenge should require the application of the following: \n",
    "- **pandas**\n",
    "    - **data ingestion and inspection** (pandas Foundations, Module One) \n",
    "    - **exploratory data analysis** (pandas Foundations, Module Two)\n",
    "    - **tidying and cleaning** (Manipulating DataFrames with pandas, Module Three) \n",
    "    - **transforming DataFrames** (Manipulating DataFrames with pandas, Module One)\n",
    "    - **subsetting DataFrames with lists** (Manipulating DataFrames with pandas, Module One) \n",
    "    - **filtering DataFrames** (Manipulating DataFrames with pandas, Module One) \n",
    "    - **grouping data** (Manipulating DataFrames with pandas, Module Four) \n",
    "    - **melting data** (Manipulating DataFrames with pandas, Module Three) \n",
    "    - **advanced indexing** (Manipulating DataFrames with pandas, Module Four) \n",
    "- **matplotlib** (Intermediate Python for Data Science, Module One)\n",
    "- **fundamental data types** (Data Types for Data Science, Module One) \n",
    "- **dictionaries** (Intermediate Python for Data Science, Module Two)\n",
    "- **handling dates and times** (Data Types for Data Science, Module Four)\n",
    "- **function definition** (Python Data Science Toolbox - Part One, Module One)\n",
    "- **default arguments, variable length, and scope** (Python Data Science Toolbox - Part One, Module Two) \n",
    "- **lambda functions and error handling** (Python Data Science Toolbox - Part One, Module Four) "
   ]
  },
  {
   "cell_type": "markdown",
   "metadata": {
    "colab_type": "text",
    "id": "Ipgd2nV8Jpgl"
   },
   "source": [
    "## The Data Science Pipeline\n",
    "\n",
    "This is Tier Three, so we'll get you started. But after that, it's all in your hands! When you feel done with your investigations, look back over what you've accomplished, and prepare a quick presentation of your findings for the next mentor meeting. \n",
    "\n",
    "Data Science is magical. In this case study, you'll get to apply some complex machine learning algorithms. But as  [David Spiegelhalter](https://www.youtube.com/watch?v=oUs1uvsz0Ok) reminds us, there is no substitute for simply **taking a really, really good look at the data.** Sometimes, this is all we need to answer our question.\n",
    "\n",
    "Data Science projects generally adhere to the four stages of Data Science Pipeline:\n",
    "1. Sourcing and loading \n",
    "2. Cleaning, transforming, and visualizing \n",
    "3. Modeling \n",
    "4. Evaluating and concluding \n"
   ]
  },
  {
   "cell_type": "markdown",
   "metadata": {
    "colab_type": "text",
    "id": "zswDqbefJpgm"
   },
   "source": [
    "### 1. Sourcing and Loading \n",
    "\n",
    "Any Data Science project kicks off by importing  ***pandas***. The documentation of this wonderful library can be found [here](https://pandas.pydata.org/). As you've seen, pandas is conveniently connected to the [Numpy](http://www.numpy.org/) and [Matplotlib](https://matplotlib.org/) libraries. \n",
    "\n",
    "***Hint:*** This part of the data science pipeline will test those skills you acquired in the pandas Foundations course, Module One. "
   ]
  },
  {
   "cell_type": "markdown",
   "metadata": {
    "colab_type": "text",
    "id": "aEau5nEvJpgm"
   },
   "source": [
    "#### 1.1. Importing Libraries"
   ]
  },
  {
   "cell_type": "code",
   "execution_count": 1,
   "metadata": {
    "colab": {},
    "colab_type": "code",
    "id": "7Bt_Q_oPJpgn"
   },
   "outputs": [],
   "source": [
    "# Let's import the pandas, numpy libraries as pd, and np respectively. \n",
    "import pandas as pd\n",
    "\n",
    "# Load the pyplot collection of functions from matplotlib, as plt \n",
    "import matplotlib.pyplot as plt"
   ]
  },
  {
   "cell_type": "markdown",
   "metadata": {
    "colab_type": "text",
    "id": "koUrawxsJpgq"
   },
   "source": [
    "#### 1.2.  Loading the data\n",
    "Your data comes from the [London Datastore](https://data.london.gov.uk/): a free, open-source data-sharing portal for London-oriented datasets. "
   ]
  },
  {
   "cell_type": "code",
   "execution_count": 2,
   "metadata": {
    "colab": {},
    "colab_type": "code",
    "id": "AiLiD4v3Jpgr"
   },
   "outputs": [],
   "source": [
    "# First, make a variable called url_LondonHousePrices, and assign it the following link, enclosed in quotation-marks as a string:\n",
    "# https://data.london.gov.uk/download/uk-house-price-index/70ac0766-8902-4eb5-aab5-01951aaed773/UK%20House%20price%20index.xls\n",
    "\n",
    "url_LondonHousePrices = \"https://data.london.gov.uk/download/uk-house-price-index/70ac0766-8902-4eb5-aab5-01951aaed773/UK%20House%20price%20index.xls\"\n",
    "\n",
    "# The dataset we're interested in contains the Average prices of the houses, and is actually on a particular sheet of the Excel file. \n",
    "# As a result, we need to specify the sheet name in the read_excel() method.\n",
    "# Put this data into a variable called properties.  \n",
    "properties = pd.read_excel(url_LondonHousePrices, sheet_name='Average price', index_col= None)\n",
    "\n"
   ]
  },
  {
   "cell_type": "markdown",
   "metadata": {
    "colab_type": "text",
    "id": "POukEJXgJpgu"
   },
   "source": [
    "### 2. Cleaning, transforming, and visualizing\n",
    "This second stage is arguably the most important part of any Data Science project. The first thing to do is take a proper look at the data. Cleaning forms the majority of this stage, and can be done both before or after Transformation.\n",
    "\n",
    "The end goal of data cleaning is to have tidy data. When data is tidy: \n",
    "\n",
    "1. Each variable has a column.\n",
    "2. Each observation forms a row.\n",
    "\n",
    "Keep the end goal in mind as you move through this process, every step will take you closer. \n",
    "\n",
    "\n",
    "\n",
    "***Hint:*** This part of the data science pipeline should test those skills you acquired in: \n",
    "- Intermediate Python for data science, all modules.\n",
    "- pandas Foundations, all modules. \n",
    "- Manipulating DataFrames with pandas, all modules.\n",
    "- Data Types for Data Science, Module Four.\n",
    "- Python Data Science Toolbox - Part One, all modules"
   ]
  },
  {
   "cell_type": "markdown",
   "metadata": {
    "colab_type": "text",
    "id": "Te0Q548tnzZa"
   },
   "source": [
    "**2.1. Exploring your data** \n",
    "\n",
    "Think about your pandas functions for checking out a dataframe. "
   ]
  },
  {
   "cell_type": "code",
   "execution_count": 3,
   "metadata": {
    "colab": {},
    "colab_type": "code",
    "id": "Rxirxw_qoAJa",
    "scrolled": false
   },
   "outputs": [
    {
     "name": "stdout",
     "output_type": "stream",
     "text": [
      "  Unnamed: 0 City of London Barking & Dagenham     Barnet     Bexley  \\\n",
      "0        NaT      E09000001          E09000002  E09000003  E09000004   \n",
      "1 1995-01-01          91449            50460.2    93284.5    64958.1   \n",
      "2 1995-02-01        82202.8            51085.8    93190.2    64787.9   \n",
      "3 1995-03-01        79120.7              51269    92247.5    64367.5   \n",
      "4 1995-04-01        77101.2            53133.5    90762.9    64277.7   \n",
      "\n",
      "       Brent    Bromley     Camden    Croydon     Ealing  ... NORTH WEST  \\\n",
      "0  E09000005  E09000006  E09000007  E09000008  E09000009  ...  E12000002   \n",
      "1    71306.6    81671.5     120933    69158.2    79885.9  ...    43958.5   \n",
      "2    72022.3    81657.6     119509    68951.1    80897.1  ...    43925.4   \n",
      "3    72015.8    81449.3     120282    68712.4    81379.9  ...    44434.9   \n",
      "4    72965.6    81124.4     120098      68610    82188.9  ...    44267.8   \n",
      "\n",
      "  YORKS & THE HUMBER EAST MIDLANDS WEST MIDLANDS EAST OF ENGLAND     LONDON  \\\n",
      "0          E12000003     E12000004     E12000005       E12000006  E12000007   \n",
      "1            44803.4       45544.5       48527.5         56701.6    74435.8   \n",
      "2            44528.8       46051.6       49341.3         56593.6    72777.9   \n",
      "3            45200.5       45383.8       49442.2         56171.2    73896.8   \n",
      "4            45614.3       46124.2       49455.9         56567.9    74455.3   \n",
      "\n",
      "  SOUTH EAST SOUTH WEST Unnamed: 47    England  \n",
      "0  E12000008  E12000009         NaN  E92000001  \n",
      "1    64018.9    54705.2         NaN    53202.8  \n",
      "2      63715    54356.1         NaN    53096.2  \n",
      "3    64113.6    53583.1         NaN    53201.3  \n",
      "4    64623.2      54786         NaN    53590.9  \n",
      "\n",
      "[5 rows x 49 columns]\n",
      "<class 'pandas.core.frame.DataFrame'>\n",
      "RangeIndex: 306 entries, 0 to 305\n",
      "Data columns (total 49 columns):\n",
      " #   Column                Non-Null Count  Dtype         \n",
      "---  ------                --------------  -----         \n",
      " 0   Unnamed: 0            305 non-null    datetime64[ns]\n",
      " 1   City of London        306 non-null    object        \n",
      " 2   Barking & Dagenham    306 non-null    object        \n",
      " 3   Barnet                306 non-null    object        \n",
      " 4   Bexley                306 non-null    object        \n",
      " 5   Brent                 306 non-null    object        \n",
      " 6   Bromley               306 non-null    object        \n",
      " 7   Camden                306 non-null    object        \n",
      " 8   Croydon               306 non-null    object        \n",
      " 9   Ealing                306 non-null    object        \n",
      " 10  Enfield               306 non-null    object        \n",
      " 11  Greenwich             306 non-null    object        \n",
      " 12  Hackney               306 non-null    object        \n",
      " 13  Hammersmith & Fulham  306 non-null    object        \n",
      " 14  Haringey              306 non-null    object        \n",
      " 15  Harrow                306 non-null    object        \n",
      " 16  Havering              306 non-null    object        \n",
      " 17  Hillingdon            306 non-null    object        \n",
      " 18  Hounslow              306 non-null    object        \n",
      " 19  Islington             306 non-null    object        \n",
      " 20  Kensington & Chelsea  306 non-null    object        \n",
      " 21  Kingston upon Thames  306 non-null    object        \n",
      " 22  Lambeth               306 non-null    object        \n",
      " 23  Lewisham              306 non-null    object        \n",
      " 24  Merton                306 non-null    object        \n",
      " 25  Newham                306 non-null    object        \n",
      " 26  Redbridge             306 non-null    object        \n",
      " 27  Richmond upon Thames  306 non-null    object        \n",
      " 28  Southwark             306 non-null    object        \n",
      " 29  Sutton                306 non-null    object        \n",
      " 30  Tower Hamlets         306 non-null    object        \n",
      " 31  Waltham Forest        306 non-null    object        \n",
      " 32  Wandsworth            306 non-null    object        \n",
      " 33  Westminster           306 non-null    object        \n",
      " 34  Unnamed: 34           0 non-null      float64       \n",
      " 35  Inner London          306 non-null    object        \n",
      " 36  Outer London          306 non-null    object        \n",
      " 37  Unnamed: 37           0 non-null      float64       \n",
      " 38  NORTH EAST            306 non-null    object        \n",
      " 39  NORTH WEST            306 non-null    object        \n",
      " 40  YORKS & THE HUMBER    306 non-null    object        \n",
      " 41  EAST MIDLANDS         306 non-null    object        \n",
      " 42  WEST MIDLANDS         306 non-null    object        \n",
      " 43  EAST OF ENGLAND       306 non-null    object        \n",
      " 44  LONDON                306 non-null    object        \n",
      " 45  SOUTH EAST            306 non-null    object        \n",
      " 46  SOUTH WEST            306 non-null    object        \n",
      " 47  Unnamed: 47           0 non-null      float64       \n",
      " 48  England               306 non-null    object        \n",
      "dtypes: datetime64[ns](1), float64(3), object(45)\n",
      "memory usage: 117.3+ KB\n",
      "None\n",
      "       Unnamed: 34  Unnamed: 37  Unnamed: 47\n",
      "count          0.0          0.0          0.0\n",
      "mean           NaN          NaN          NaN\n",
      "std            NaN          NaN          NaN\n",
      "min            NaN          NaN          NaN\n",
      "25%            NaN          NaN          NaN\n",
      "50%            NaN          NaN          NaN\n",
      "75%            NaN          NaN          NaN\n",
      "max            NaN          NaN          NaN\n",
      "Index(['Unnamed: 0', 'City of London', 'Barking & Dagenham', 'Barnet',\n",
      "       'Bexley', 'Brent', 'Bromley', 'Camden', 'Croydon', 'Ealing', 'Enfield',\n",
      "       'Greenwich', 'Hackney', 'Hammersmith & Fulham', 'Haringey', 'Harrow',\n",
      "       'Havering', 'Hillingdon', 'Hounslow', 'Islington',\n",
      "       'Kensington & Chelsea', 'Kingston upon Thames', 'Lambeth', 'Lewisham',\n",
      "       'Merton', 'Newham', 'Redbridge', 'Richmond upon Thames', 'Southwark',\n",
      "       'Sutton', 'Tower Hamlets', 'Waltham Forest', 'Wandsworth',\n",
      "       'Westminster', 'Unnamed: 34', 'Inner London', 'Outer London',\n",
      "       'Unnamed: 37', 'NORTH EAST', 'NORTH WEST', 'YORKS & THE HUMBER',\n",
      "       'EAST MIDLANDS', 'WEST MIDLANDS', 'EAST OF ENGLAND', 'LONDON',\n",
      "       'SOUTH EAST', 'SOUTH WEST', 'Unnamed: 47', 'England'],\n",
      "      dtype='object')\n",
      "RangeIndex(start=0, stop=306, step=1)\n"
     ]
    }
   ],
   "source": [
    "print(properties.head())\n",
    "print(properties.info())\n",
    "print(properties.describe())\n",
    "print(properties.columns)\n",
    "print(properties.index)"
   ]
  },
  {
   "cell_type": "markdown",
   "metadata": {
    "colab_type": "text",
    "id": "tE9Sqt9-oAta"
   },
   "source": [
    "**2.2. Cleaning the data**\n",
    "\n",
    "You might find you need to transpose your dataframe, check out what its row indexes are, and reset the index. You  also might find you need to assign the values of the first row to your column headings  . (Hint: recall the .columns feature of DataFrames, as well as the iloc[] method).\n",
    "\n",
    "Don't be afraid to use StackOverflow for help  with this."
   ]
  },
  {
   "cell_type": "code",
   "execution_count": 4,
   "metadata": {
    "colab": {},
    "colab_type": "code",
    "id": "cdAu1A3YoH_r"
   },
   "outputs": [
    {
     "name": "stdout",
     "output_type": "stream",
     "text": [
      "Index(['City of London', 'Barking & Dagenham', 'Barnet', 'Bexley', 'Brent',\n",
      "       'Bromley', 'Camden', 'Croydon', 'Ealing', 'Enfield', 'Greenwich',\n",
      "       'Hackney', 'Hammersmith & Fulham', 'Haringey', 'Harrow', 'Havering',\n",
      "       'Hillingdon', 'Hounslow', 'Islington', 'Kensington & Chelsea',\n",
      "       'Kingston upon Thames', 'Lambeth', 'Lewisham', 'Merton', 'Newham',\n",
      "       'Redbridge', 'Richmond upon Thames', 'Southwark', 'Sutton',\n",
      "       'Tower Hamlets', 'Waltham Forest', 'Wandsworth', 'Westminster',\n",
      "       'Unnamed: 34', 'Inner London', 'Outer London', 'Unnamed: 37',\n",
      "       'NORTH EAST', 'NORTH WEST', 'YORKS & THE HUMBER', 'EAST MIDLANDS',\n",
      "       'WEST MIDLANDS', 'EAST OF ENGLAND', 'LONDON', 'SOUTH EAST',\n",
      "       'SOUTH WEST', 'Unnamed: 47', 'England'],\n",
      "      dtype='object')\n",
      "DatetimeIndex([       'NaT', '1995-01-01', '1995-02-01', '1995-03-01',\n",
      "               '1995-04-01', '1995-05-01', '1995-06-01', '1995-07-01',\n",
      "               '1995-08-01', '1995-09-01',\n",
      "               ...\n",
      "               '2019-08-01', '2019-09-01', '2019-10-01', '2019-11-01',\n",
      "               '2019-12-01', '2020-01-01', '2020-02-01', '2020-03-01',\n",
      "               '2020-04-01', '2020-05-01'],\n",
      "              dtype='datetime64[ns]', name='Date', length=306, freq=None)\n"
     ]
    }
   ],
   "source": [
    "#Change name of Column with dates\n",
    "props = properties.rename(columns={'Unnamed: 0':'Date'})\n",
    "\n",
    "#Set index to time column\n",
    "props = props.set_index(props.loc[:,'Date'], drop=True)\n",
    "props = props.drop(labels='Date',axis=1)\n",
    "print(props.columns)\n",
    "print(props.index)\n"
   ]
  },
  {
   "cell_type": "markdown",
   "metadata": {
    "colab_type": "text",
    "id": "o1uLbJAsoIjK"
   },
   "source": [
    "**2.3. Cleaning the data (part 2)**\n",
    "\n",
    "You might we have to **rename** a couple columns. How do you do this? The clue's pretty bold..."
   ]
  },
  {
   "cell_type": "code",
   "execution_count": 5,
   "metadata": {
    "colab": {},
    "colab_type": "code",
    "id": "GKkmn1AnoVZS"
   },
   "outputs": [
    {
     "data": {
      "text/plain": [
       "Index(['City Of London', 'Barking & Dagenham', 'Barnet', 'Bexley', 'Brent',\n",
       "       'Bromley', 'Camden', 'Croydon', 'Ealing', 'Enfield', 'Greenwich',\n",
       "       'Hackney', 'Hammersmith & Fulham', 'Haringey', 'Harrow', 'Havering',\n",
       "       'Hillingdon', 'Hounslow', 'Islington', 'Kensington & Chelsea',\n",
       "       'Kingston Upon Thames', 'Lambeth', 'Lewisham', 'Merton', 'Newham',\n",
       "       'Redbridge', 'Richmond Upon Thames', 'Southwark', 'Sutton',\n",
       "       'Tower Hamlets', 'Waltham Forest', 'Wandsworth', 'Westminster',\n",
       "       'Inner London', 'Outer London', 'North East', 'North West',\n",
       "       'Yorks & The Humber', 'East Midlands', 'West Midlands',\n",
       "       'East Of England', 'London', 'South East', 'South West', 'England'],\n",
       "      dtype='object')"
      ]
     },
     "execution_count": 5,
     "metadata": {},
     "output_type": "execute_result"
    }
   ],
   "source": [
    "#Change title names to titlecase\n",
    "props.columns = props.columns.str.title()\n",
    "\n",
    "#Drop columns with missing values (appears columns either have all or no values per .info)\n",
    "props = props.dropna(axis=1)\n",
    "props.columns"
   ]
  },
  {
   "cell_type": "markdown",
   "metadata": {
    "colab_type": "text",
    "id": "jy8BzXHmoWEw"
   },
   "source": [
    "**2.4.Transforming the data**\n",
    "\n",
    "Remember what Wes McKinney said about tidy data? \n",
    "\n",
    "You might need to **melt** your DataFrame here. "
   ]
  },
  {
   "cell_type": "code",
   "execution_count": 6,
   "metadata": {
    "colab": {},
    "colab_type": "code",
    "id": "S2wM0qLuo2Zt"
   },
   "outputs": [
    {
     "name": "stdout",
     "output_type": "stream",
     "text": [
      "DatetimeIndex(['1995-01-01', '1995-02-01', '1995-03-01', '1995-04-01',\n",
      "               '1995-05-01', '1995-06-01', '1995-07-01', '1995-08-01',\n",
      "               '1995-09-01', '1995-10-01',\n",
      "               ...\n",
      "               '2019-08-01', '2019-09-01', '2019-10-01', '2019-11-01',\n",
      "               '2019-12-01', '2020-01-01', '2020-02-01', '2020-03-01',\n",
      "               '2020-04-01', '2020-05-01'],\n",
      "              dtype='datetime64[ns]', name='Date', length=305, freq=None)\n",
      "<class 'pandas.core.frame.DataFrame'>\n",
      "DatetimeIndex: 305 entries, 1995-01-01 to 2020-05-01\n",
      "Data columns (total 45 columns):\n",
      " #   Column                Non-Null Count  Dtype  \n",
      "---  ------                --------------  -----  \n",
      " 0   City Of London        305 non-null    float64\n",
      " 1   Barking & Dagenham    305 non-null    float64\n",
      " 2   Barnet                305 non-null    float64\n",
      " 3   Bexley                305 non-null    float64\n",
      " 4   Brent                 305 non-null    float64\n",
      " 5   Bromley               305 non-null    float64\n",
      " 6   Camden                305 non-null    float64\n",
      " 7   Croydon               305 non-null    float64\n",
      " 8   Ealing                305 non-null    float64\n",
      " 9   Enfield               305 non-null    float64\n",
      " 10  Greenwich             305 non-null    float64\n",
      " 11  Hackney               305 non-null    float64\n",
      " 12  Hammersmith & Fulham  305 non-null    float64\n",
      " 13  Haringey              305 non-null    float64\n",
      " 14  Harrow                305 non-null    float64\n",
      " 15  Havering              305 non-null    float64\n",
      " 16  Hillingdon            305 non-null    float64\n",
      " 17  Hounslow              305 non-null    float64\n",
      " 18  Islington             305 non-null    float64\n",
      " 19  Kensington & Chelsea  305 non-null    float64\n",
      " 20  Kingston Upon Thames  305 non-null    float64\n",
      " 21  Lambeth               305 non-null    float64\n",
      " 22  Lewisham              305 non-null    float64\n",
      " 23  Merton                305 non-null    float64\n",
      " 24  Newham                305 non-null    float64\n",
      " 25  Redbridge             305 non-null    float64\n",
      " 26  Richmond Upon Thames  305 non-null    float64\n",
      " 27  Southwark             305 non-null    float64\n",
      " 28  Sutton                305 non-null    float64\n",
      " 29  Tower Hamlets         305 non-null    float64\n",
      " 30  Waltham Forest        305 non-null    float64\n",
      " 31  Wandsworth            305 non-null    float64\n",
      " 32  Westminster           305 non-null    float64\n",
      " 33  Inner London          305 non-null    float64\n",
      " 34  Outer London          305 non-null    float64\n",
      " 35  North East            305 non-null    float64\n",
      " 36  North West            305 non-null    float64\n",
      " 37  Yorks & The Humber    305 non-null    float64\n",
      " 38  East Midlands         305 non-null    float64\n",
      " 39  West Midlands         305 non-null    float64\n",
      " 40  East Of England       305 non-null    float64\n",
      " 41  London                305 non-null    float64\n",
      " 42  South East            305 non-null    float64\n",
      " 43  South West            305 non-null    float64\n",
      " 44  England               305 non-null    float64\n",
      "dtypes: float64(45)\n",
      "memory usage: 109.6 KB\n"
     ]
    }
   ],
   "source": [
    "#remove first row of zip codes \n",
    "props = props.iloc[1:,:]\n",
    "print(props.index)\n",
    "\n",
    "#change all prices to floats\n",
    "props = props.astype(float)\n",
    "props.info()"
   ]
  },
  {
   "cell_type": "markdown",
   "metadata": {
    "colab_type": "text",
    "id": "7kIsgAo7o3mf"
   },
   "source": [
    "Remember to make sure your column data types are all correct. Average prices, for example, should be floating point numbers... "
   ]
  },
  {
   "cell_type": "code",
   "execution_count": 7,
   "metadata": {
    "colab": {},
    "colab_type": "code",
    "id": "ZcR4IHbcpOaq",
    "scrolled": false
   },
   "outputs": [
    {
     "data": {
      "text/plain": [
       "<bound method DataFrame.info of             City Of London  Barking & Dagenham        Barnet        Bexley  \\\n",
       "Date                                                                         \n",
       "1995-01-01     91448.98487         50460.22660   93284.51832   64958.09036   \n",
       "1995-02-01     82202.77314         51085.77983   93190.16963   64787.92069   \n",
       "1995-03-01     79120.70256         51268.96956   92247.52435   64367.49344   \n",
       "1995-04-01     77101.20804         53133.50526   90762.87492   64277.66881   \n",
       "1995-05-01     84409.14932         53042.24852   90258.00033   63997.13588   \n",
       "...                    ...                 ...           ...           ...   \n",
       "2020-01-01    747610.87490        303653.39510  518542.25360  334765.05820   \n",
       "2020-02-01    777640.00720        304265.15220  519121.24140  337759.68680   \n",
       "2020-03-01    844988.50660        304098.63970  527747.36960  339215.31980   \n",
       "2020-04-01    867840.62900        283139.43560  526552.50340  346839.54010   \n",
       "2020-05-01    899831.20600        295743.75800  532503.04310  339407.76070   \n",
       "\n",
       "                   Brent       Bromley       Camden       Croydon  \\\n",
       "Date                                                                \n",
       "1995-01-01   71306.56698   81671.47692  120932.8881   69158.16225   \n",
       "1995-02-01   72022.26197   81657.55944  119508.8622   68951.09542   \n",
       "1995-03-01   72015.76274   81449.31143  120282.2131   68712.44341   \n",
       "1995-04-01   72965.63094   81124.41227  120097.8990   68610.04641   \n",
       "1995-05-01   73704.04743   81542.61561  119929.2782   68844.91690   \n",
       "...                  ...           ...          ...           ...   \n",
       "2020-01-01  423160.84030  435532.43430  815512.4609  371226.72310   \n",
       "2020-02-01  467144.91460  435704.44730  825249.3994  371356.52770   \n",
       "2020-03-01  461397.53970  434624.83460  870106.8452  370871.53990   \n",
       "2020-04-01  494454.52030  443481.92340  870626.7601  386737.93080   \n",
       "2020-05-01  466573.64940  420036.01640  862208.9963  369790.79010   \n",
       "\n",
       "                  Ealing       Enfield  ...    North East    North West  \\\n",
       "Date                                    ...                               \n",
       "1995-01-01   79885.89069   72514.69096  ...   42076.35411   43958.48001   \n",
       "1995-02-01   80897.06551   73155.19746  ...   42571.98949   43925.42289   \n",
       "1995-03-01   81379.86288   72190.44144  ...   42369.72984   44434.86810   \n",
       "1995-04-01   82188.90498   71442.92235  ...   42095.84360   44267.77960   \n",
       "1995-05-01   82077.05525   70630.77955  ...   43266.45165   44223.61973   \n",
       "...                  ...           ...  ...           ...           ...   \n",
       "2020-01-01  466490.65330  390589.26340  ...  128400.96220  165093.51580   \n",
       "2020-02-01  465613.84620  389901.42600  ...  128142.02710  166290.98500   \n",
       "2020-03-01  478565.22590  395082.11870  ...  129047.03650  168160.91750   \n",
       "2020-04-01  502107.07390  400695.13040  ...  125937.86740  167808.51570   \n",
       "2020-05-01  490595.92440  408017.91450  ...  134545.45250  168261.15940   \n",
       "\n",
       "            Yorks & The Humber  East Midlands  West Midlands  East Of England  \\\n",
       "Date                                                                            \n",
       "1995-01-01         44803.42878    45544.52227    48527.52339      56701.59610   \n",
       "1995-02-01         44528.80721    46051.57066    49341.29029      56593.59475   \n",
       "1995-03-01         45200.46775    45383.82395    49442.17973      56171.18278   \n",
       "1995-04-01         45614.34341    46124.23045    49455.93299      56567.89582   \n",
       "1995-05-01         44830.98563    45878.00396    50369.66188      56479.80183   \n",
       "...                        ...            ...            ...              ...   \n",
       "2020-01-01        164752.36400   196199.08110   202084.82060     290334.93340   \n",
       "2020-02-01        164949.21220   194213.96420   200196.37380     290308.73290   \n",
       "2020-03-01        165684.57170   198283.71430   201368.71410     291355.54280   \n",
       "2020-04-01        165561.19010   200513.17180   202093.37000     295639.92970   \n",
       "2020-05-01        170198.01010   197504.58810   203658.15250     290620.98260   \n",
       "\n",
       "                  London    South East    South West       England  \n",
       "Date                                                                \n",
       "1995-01-01   74435.76052   64018.87894   54705.15790   53202.77128  \n",
       "1995-02-01   72777.93709   63715.02399   54356.14843   53096.15490  \n",
       "1995-03-01   73896.84204   64113.60858   53583.07667   53201.28430  \n",
       "1995-04-01   74455.28754   64623.22395   54786.01938   53590.85480  \n",
       "1995-05-01   75432.02786   64530.36358   54698.83831   53678.24041  \n",
       "...                  ...           ...           ...           ...  \n",
       "2020-01-01  478489.12630  323421.57160  257822.14770  248950.46450  \n",
       "2020-02-01  479628.13190  319827.02430  257101.38460  248231.66410  \n",
       "2020-03-01  488184.73770  326700.97650  262444.13990  251538.79190  \n",
       "2020-04-01  480425.38750  327412.72220  255891.14190  250873.97870  \n",
       "2020-05-01  479018.01340  324658.71630  261006.22200  251972.51920  \n",
       "\n",
       "[305 rows x 45 columns]>"
      ]
     },
     "execution_count": 7,
     "metadata": {},
     "output_type": "execute_result"
    }
   ],
   "source": [
    "props.info"
   ]
  },
  {
   "cell_type": "markdown",
   "metadata": {
    "colab_type": "text",
    "id": "knLUXHLypOtw"
   },
   "source": [
    "**2.5. Cleaning the data (part 3)**\n",
    "\n",
    "Do we have an equal number of observations in the ID, Average Price, Month, and London Borough columns? Remember that there are only 32 London Boroughs. How many entries do you have in that column? \n",
    "\n",
    "Check out the contents of the London Borough column, and if you find null values, get rid of them however you see fit. "
   ]
  },
  {
   "cell_type": "code",
   "execution_count": 8,
   "metadata": {
    "colab": {},
    "colab_type": "code",
    "id": "BnvTW5a3p0fC"
   },
   "outputs": [
    {
     "name": "stdout",
     "output_type": "stream",
     "text": [
      "Index(['City Of London', 'Barking & Dagenham', 'Barnet', 'Bexley', 'Brent',\n",
      "       'Bromley', 'Camden', 'Croydon', 'Ealing', 'Enfield', 'Greenwich',\n",
      "       'Hackney', 'Hammersmith & Fulham', 'Haringey', 'Harrow', 'Havering',\n",
      "       'Hillingdon', 'Hounslow', 'Islington', 'Kensington & Chelsea',\n",
      "       'Kingston Upon Thames', 'Lambeth', 'Lewisham', 'Merton', 'Newham',\n",
      "       'Redbridge', 'Richmond Upon Thames', 'Southwark', 'Sutton',\n",
      "       'Tower Hamlets', 'Waltham Forest', 'Wandsworth', 'Westminster'],\n",
      "      dtype='object')\n",
      "<class 'pandas.core.series.Series'>\n"
     ]
    }
   ],
   "source": [
    "#remove extra Bouroughs\n",
    "nonBoroughs = ['Inner London', 'Outer London', \n",
    "               'NORTH EAST', 'NORTH WEST', 'YORKS & THE HUMBER', \n",
    "               'EAST MIDLANDS', 'WEST MIDLANDS',\n",
    "              'EAST OF ENGLAND', 'LONDON', 'SOUTH EAST', \n",
    "              'SOUTH WEST', 'England']\n",
    "nonBoroughs_title = [i.title() for i in nonBoroughs]\n",
    "\n",
    "props = props.drop(columns=nonBoroughs_title)\n",
    "print(props.columns)\n",
    "#resample to yearly average\n",
    "props_mean = props.resample('Y').mean()\n",
    "\n",
    "#calculate change over time period\n",
    "props_mean_change = props_mean.loc['2020-12-31'] -props_mean.loc['1995-12-31']\n",
    "props_mean_change = props_mean_change.astype(int)\n",
    "print(type(props_mean_change))\n",
    "\n"
   ]
  },
  {
   "cell_type": "markdown",
   "metadata": {
    "colab_type": "text",
    "id": "PGEx6mJsp6dG"
   },
   "source": [
    "**2.6. Visualizing the data**\n",
    "\n",
    "To visualize the data, why not subset on a particular London Borough? Maybe do a line plot of Month against Average Price?"
   ]
  },
  {
   "cell_type": "code",
   "execution_count": 16,
   "metadata": {
    "colab": {},
    "colab_type": "code",
    "id": "nAg5pT9cqHAR"
   },
   "outputs": [
    {
     "data": {
      "image/png": "[encoded data removed]",
      "text/plain": [
       "<Figure size 432x288 with 1 Axes>"
      ]
     },
     "metadata": {
      "needs_background": "light"
     },
     "output_type": "display_data"
    },
    {
     "ename": "NameError",
     "evalue": "name 'savefig' is not defined",
     "output_type": "error",
     "traceback": [
      "\u001b[1;31m---------------------------------------------------------------------------\u001b[0m",
      "\u001b[1;31mNameError\u001b[0m                                 Traceback (most recent call last)",
      "\u001b[1;32m<ipython-input-16-8da4e0a81a69>\u001b[0m in \u001b[0;36m<module>\u001b[1;34m\u001b[0m\n\u001b[0;32m      3\u001b[0m \u001b[0mplt\u001b[0m\u001b[1;33m.\u001b[0m\u001b[0mlegend\u001b[0m\u001b[1;33m(\u001b[0m\u001b[0mbbox_to_anchor\u001b[0m\u001b[1;33m=\u001b[0m\u001b[1;33m(\u001b[0m\u001b[1;36m2\u001b[0m\u001b[1;33m,\u001b[0m \u001b[1;36m1\u001b[0m\u001b[1;33m)\u001b[0m\u001b[1;33m,\u001b[0m \u001b[0mloc\u001b[0m\u001b[1;33m=\u001b[0m\u001b[1;34m'upper right'\u001b[0m\u001b[1;33m,\u001b[0m \u001b[0mncol\u001b[0m\u001b[1;33m=\u001b[0m\u001b[1;36m1\u001b[0m\u001b[1;33m)\u001b[0m\u001b[1;33m\u001b[0m\u001b[1;33m\u001b[0m\u001b[0m\n\u001b[0;32m      4\u001b[0m \u001b[0mplt\u001b[0m\u001b[1;33m.\u001b[0m\u001b[0mshow\u001b[0m\u001b[1;33m(\u001b[0m\u001b[1;33m)\u001b[0m\u001b[1;33m\u001b[0m\u001b[1;33m\u001b[0m\u001b[0m\n\u001b[1;32m----> 5\u001b[1;33m \u001b[0msavefig\u001b[0m\u001b[1;33m(\u001b[0m\u001b[1;34m'plot.png'\u001b[0m\u001b[1;33m)\u001b[0m\u001b[1;33m\u001b[0m\u001b[1;33m\u001b[0m\u001b[0m\n\u001b[0m",
      "\u001b[1;31mNameError\u001b[0m: name 'savefig' is not defined"
     ]
    }
   ],
   "source": [
    "#plot line graph of yearly average for all bouroughs\n",
    "props_mean.plot()\n",
    "plt.legend(bbox_to_anchor=(2, 1), loc='upper right', ncol=1) \n",
    "plt.show()"
   ]
  },
  {
   "cell_type": "markdown",
   "metadata": {
    "colab_type": "text",
    "id": "aWTPqSJeqHnC"
   },
   "source": [
    "To limit the number of data points you have, you might want to extract the year from every month value your *Month* column. \n",
    "\n",
    "To this end, you *could* apply a ***lambda function***. Your logic could work as follows:\n",
    "1. look through the `Month` column\n",
    "2. extract the year from each individual value in that column \n",
    "3. store that corresponding year as separate column. \n",
    "\n",
    "Whether you go ahead with this is up to you. Just so long as you answer our initial brief: which boroughs of London have seen the greatest house price increase, on average, over the past two decades? "
   ]
  },
  {
   "cell_type": "code",
   "execution_count": 10,
   "metadata": {
    "colab": {},
    "colab_type": "code",
    "id": "e0DF92cyqnu8"
   },
   "outputs": [
    {
     "name": "stdout",
     "output_type": "stream",
     "text": [
      "Kensington & Chelsea    1144358\n",
      "Westminster              869120\n",
      "City Of London           728497\n",
      "Camden                   728373\n",
      "Hammersmith & Fulham     604841\n",
      "Islington                578912\n",
      "Richmond Upon Thames     555765\n",
      "Wandsworth               521680\n",
      "Hackney                  503970\n",
      "Haringey                 474516\n",
      "dtype: int32\n",
      "Hillingdon            336857\n",
      "Hounslow              335964\n",
      "Greenwich             335819\n",
      "Enfield               324872\n",
      "Newham                316837\n",
      "Croydon               305073\n",
      "Sutton                304967\n",
      "Havering              299186\n",
      "Bexley                275305\n",
      "Barking & Dagenham    246362\n",
      "dtype: int32\n"
     ]
    }
   ],
   "source": [
    "#print max dollar value change\n",
    "print(props_mean_change.sort_values(ascending=False).head(10))\n",
    "print(props_mean_change.sort_values(ascending=False).tail(10))"
   ]
  },
  {
   "cell_type": "markdown",
   "metadata": {
    "colab_type": "text",
    "id": "2knuTxAEqoJ4"
   },
   "source": [
    "**3. Modeling**\n",
    "\n",
    "Consider creating a function that will calculate a ratio of house prices, comparing the price of a house in 2018 to the price in 1998.\n",
    "\n",
    "Consider calling this function create_price_ratio.\n",
    "\n",
    "You'd want this function to:\n",
    "1. Take a filter of dfg, specifically where this filter constrains the London_Borough, as an argument. For example, one admissible argument should be: dfg[dfg['London_Borough']=='Camden'].\n",
    "2. Get the Average Price for that Borough, for the years 1998 and 2018.\n",
    "4. Calculate the ratio of the Average Price for 1998 divided by the Average Price for 2018.\n",
    "5. Return that ratio.\n",
    "\n",
    "Once you've written this function, you ultimately want to use it to iterate through all the unique London_Boroughs and work out the ratio capturing the difference of house prices between 1998 and 2018.\n",
    "\n",
    "Bear in mind: you don't have to write a function like this if you don't want to. If you can solve the brief otherwise, then great! \n",
    "\n",
    "***Hint***: This section should test the skills you acquired in:\n",
    "- Python Data Science Toolbox - Part One, all modules"
   ]
  },
  {
   "cell_type": "code",
   "execution_count": 18,
   "metadata": {
    "colab": {},
    "colab_type": "code",
    "id": "cKTyr437UgDa"
   },
   "outputs": [
    {
     "name": "stdout",
     "output_type": "stream",
     "text": [
      "count    33.000000\n",
      "mean      0.214915\n",
      "std       0.024670\n",
      "min       0.161300\n",
      "25%       0.196800\n",
      "50%       0.210900\n",
      "75%       0.235400\n",
      "max       0.251500\n",
      "dtype: float64\n",
      "Hackney                 0.1613\n",
      "Waltham Forest          0.1714\n",
      "Southwark               0.1813\n",
      "Lewisham                0.1835\n",
      "Westminster             0.1868\n",
      "Newham                  0.1885\n",
      "City Of London          0.1886\n",
      "Haringey                0.1948\n",
      "Kensington & Chelsea    0.1968\n",
      "Lambeth                 0.2017\n",
      "dtype: float64\n",
      "Enfield                 0.2346\n",
      "Bexley                  0.2354\n",
      "Croydon                 0.2380\n",
      "Hillingdon              0.2381\n",
      "Hammersmith & Fulham    0.2417\n",
      "Sutton                  0.2428\n",
      "Bromley                 0.2442\n",
      "Harrow                  0.2464\n",
      "Richmond Upon Thames    0.2497\n",
      "Hounslow                0.2515\n",
      "dtype: float64\n"
     ]
    }
   ],
   "source": [
    "#function for price ratio\n",
    "def create_price_ratio(borough):\n",
    "    average_1998 = int(props_mean['1998'][borough])\n",
    "    average_2018 = int(props_mean['2018'][borough])\n",
    "    ratio = round(average_1998 / average_2018, 4)\n",
    "    return ratio\n",
    "\n",
    "#create dictionary of ratios\n",
    "ratio_change = {i:create_price_ratio(i) for i in list(props_mean.columns)}\n",
    "\n",
    "#Convert to series and review statistical information\n",
    "ratio_change_series = pd.Series(ratio_change)\n",
    "print(ratio_change_series.describe())\n",
    "print(ratio_change_series.sort_values().head(10))\n",
    "print(ratio_change_series.sort_values().tail(10))"
   ]
  },
  {
   "cell_type": "markdown",
   "metadata": {
    "colab_type": "text",
    "id": "NzYUI7FxJpgv"
   },
   "source": [
    "### 4. Conclusion\n",
    "What can you conclude? Type out your conclusion below. \n",
    "\n",
    "\"The highest dollar value increase was in Kensington & Chelsea, however this does not line up with the highest ratio of change, which belongs to North East. The same dolar value increase for a lower price high will show as a greater percentage increase, therefore it is not surprising to see the boroughs with the lower starting home prices near the top of the ratio increases.\"\n",
    "\n",
    "Look back at your notebook. Think about how you might summarize what you have done, and prepare a quick presentation on it to your mentor at your next meeting. \n",
    "\n",
    "We hope you enjoyed this practical project. It should have consolidated your data hygiene and pandas skills by looking at a real-world problem involving just the kind of dataset you might encounter as a budding data scientist. Congratulations, and looking forward to seeing you at the next step in the course! "
   ]
  }
 ],
 "metadata": {
  "colab": {
   "collapsed_sections": [],
   "name": "Springboard Data Science Career Track Unit 4 Challenge - Tier 3 Complete .ipynb",
   "provenance": []
  },
  "kernelspec": {
   "display_name": "Python 3",
   "language": "python",
   "name": "python3"
  },
  "language_info": {
   "codemirror_mode": {
    "name": "ipython",
    "version": 3
   },
   "file_extension": ".py",
   "mimetype": "text/x-python",
   "name": "python",
   "nbconvert_exporter": "python",
   "pygments_lexer": "ipython3",
   "version": "3.7.6"
  }
 },
 "nbformat": 4,
 "nbformat_minor": 1
}
