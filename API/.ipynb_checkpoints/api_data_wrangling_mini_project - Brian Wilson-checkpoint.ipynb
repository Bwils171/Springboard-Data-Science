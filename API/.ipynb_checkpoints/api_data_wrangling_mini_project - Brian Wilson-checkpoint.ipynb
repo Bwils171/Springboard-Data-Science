{
 "cells": [
  {
   "cell_type": "markdown",
   "metadata": {},
   "source": [
    "This exercise will require you to pull some data from the Qunadl API. Qaundl is currently the most widely used aggregator of financial market data."
   ]
  },
  {
   "cell_type": "markdown",
   "metadata": {},
   "source": [
    "As a first step, you will need to register a free account on the http://www.quandl.com website."
   ]
  },
  {
   "cell_type": "markdown",
   "metadata": {},
   "source": [
    "After you register, you will be provided with a unique API key, that you should store:"
   ]
  },
  {
   "cell_type": "code",
   "execution_count": 1,
   "metadata": {},
   "outputs": [],
   "source": [
    "# Store the API key as a string - according to PEP8, constants are always named in all upper case\n",
    "API_KEY = 'W96sQwpzzJrbYAyBeByU'"
   ]
  },
  {
   "cell_type": "markdown",
   "metadata": {},
   "source": [
    "Qaundl has a large number of data sources, but, unfortunately, most of them require a Premium subscription. Still, there are also a good number of free datasets."
   ]
  },
  {
   "cell_type": "markdown",
   "metadata": {},
   "source": [
    "For this mini project, we will focus on equities data from the Frankfurt Stock Exhange (FSE), which is available for free. We'll try and analyze the stock prices of a company called Carl Zeiss Meditec, which manufactures tools for eye examinations, as well as medical lasers for laser eye surgery: https://www.zeiss.com/meditec/int/home.html. The company is listed under the stock ticker AFX_X."
   ]
  },
  {
   "cell_type": "markdown",
   "metadata": {},
   "source": [
    "You can find the detailed Quandl API instructions here: https://docs.quandl.com/docs/time-series"
   ]
  },
  {
   "cell_type": "markdown",
   "metadata": {},
   "source": [
    "While there is a dedicated Python package for connecting to the Quandl API, we would prefer that you use the *requests* package, which can be easily downloaded using *pip* or *conda*. You can find the documentation for the package here: http://docs.python-requests.org/en/master/ "
   ]
  },
  {
   "cell_type": "markdown",
   "metadata": {},
   "source": [
    "Finally, apart from the *requests* package, you are encouraged to not use any third party Python packages, such as *pandas*, and instead focus on what's available in the Python Standard Library (the *collections* module might come in handy: https://pymotw.com/3/collections/ ).\n",
    "Also, since you won't have access to DataFrames, you are encouraged to us Python's native data structures - preferably dictionaries, though some questions can also be answered using lists.\n",
    "You can read more on these data structures here: https://docs.python.org/3/tutorial/datastructures.html"
   ]
  },
  {
   "cell_type": "markdown",
   "metadata": {},
   "source": [
    "Keep in mind that the JSON responses you will be getting from the API map almost one-to-one to Python's dictionaries. Unfortunately, they can be very nested, so make sure you read up on indexing dictionaries in the documentation provided above."
   ]
  },
  {
   "cell_type": "code",
   "execution_count": 33,
   "metadata": {},
   "outputs": [],
   "source": [
    "# First, import the relevant modules\n",
    "import pip\n",
    "import collections\n",
    "import requests\n",
    "import json\n",
    "import pandas as pd\n",
    "\n"
   ]
  },
  {
   "cell_type": "code",
   "execution_count": 17,
   "metadata": {},
   "outputs": [],
   "source": [
    "# Now, call the Quandl API and pull out a small sample of the data (only one day) to get a glimpse\n",
    "# into the JSON structure that will be returned\n",
    "\n",
    "url = \"https://www.quandl.com/api/v3/datasets/FSE/AFX_X/data.json?start_date=2020-03-05&end_date=2020-04-06&api_key=\" + API_KEY\n",
    "\n",
    "r = requests.get(url)\n",
    "one_day = r.json()\n",
    "\n"
   ]
  },
  {
   "cell_type": "code",
   "execution_count": 18,
   "metadata": {},
   "outputs": [
    {
     "name": "stdout",
     "output_type": "stream",
     "text": [
      "{'dataset_data': {'limit': None, 'transform': None, 'column_index': None, 'column_names': ['Date', 'Open', 'High', 'Low', 'Close', 'Change', 'Traded Volume', 'Turnover', 'Last Price of the Day', 'Daily Traded Units', 'Daily Turnover'], 'start_date': '2020-03-05', 'end_date': '2020-04-06', 'frequency': 'daily', 'data': [['2020-04-06', 86.35, 89.65, 86.25, 89.65, None, 165074.0, 14584495.75, None, None, None], ['2020-04-03', 83.1, 85.45, 82.5, 84.0, None, 184124.0, 15495174.4, None, None, None], ['2020-04-02', 86.0, 87.15, 79.5, 82.5, None, 300359.0, 24916457.15, None, None, None], ['2020-04-01', 86.5, 86.9, 85.0, 86.1, None, 192187.0, 16541381.35, None, None, None], ['2020-03-31', 92.0, 92.65, 88.15, 88.35, None, 311491.0, 27892906.55, None, None, None], ['2020-03-30', 85.4, 88.9, 83.1, 88.9, None, 167955.0, 14624880.3, None, None, None], ['2020-03-27', 89.0, 90.85, 83.5, 83.95, None, 231618.0, 19986099.3, None, None, None], ['2020-03-26', 81.5, 91.05, 81.5, 91.05, None, 274322.0, 23971500.55, None, None, None], ['2020-03-25', 82.5, 90.4, 80.6, 83.1, None, 284087.0, 23870691.15, None, None, None], ['2020-03-24', 79.2, 79.45, 76.6, 79.45, None, 256310.0, 20107995.1, None, None, None], ['2020-03-23', 74.5, 77.05, 72.9, 75.0, None, 187013.0, 14032458.1, None, None, None], ['2020-03-20', 76.65, 82.35, 75.7, 78.25, None, 446534.0, 34997042.95, None, None, None], ['2020-03-19', 69.15, 74.7, 67.7, 73.45, None, 272648.0, 19466640.1, None, None, None], ['2020-03-18', 74.5, 75.25, 69.55, 69.7, None, 341817.0, 24444114.6, None, None, None], ['2020-03-17', 79.0, 80.1, 73.5, 75.1, None, 265313.0, 20046246.2, None, None, None], ['2020-03-16', 75.0, 76.9, 71.45, 76.15, None, 422533.0, 31664759.85, None, None, None], ['2020-03-13', 77.75, 84.05, 76.85, 78.85, None, 457906.0, 36529317.4, None, None, None], ['2020-03-12', 77.75, 81.65, 75.8, 76.45, None, 428846.0, 33545984.85, None, None, None], ['2020-03-11', 87.6, 88.45, 83.85, 84.3, None, 250339.0, 21276696.5, None, None, None], ['2020-03-10', 88.25, 90.3, 86.0, 86.8, None, 324702.0, 28663267.75, None, None, None], ['2020-03-09', 87.65, 92.15, 85.1, 87.2, None, 392049.0, 34832184.95, None, None, None], ['2020-03-06', 95.0, 95.1, 91.9, 94.15, None, 211996.0, 19868077.2, None, None, None], ['2020-03-05', 101.3, 102.6, 96.35, 97.2, None, 230406.0, 22585334.7, None, None, None]], 'collapse': None, 'order': None}}\n"
     ]
    }
   ],
   "source": [
    "# Inspect the JSON structure of the object you created, and take note of how nested it is,\n",
    "# as well as the overall structure\n",
    "print(one_day)"
   ]
  },
  {
   "cell_type": "markdown",
   "metadata": {},
   "source": [
    "These are your tasks for this mini project:\n",
    "\n",
    "1. Collect data from the Franfurt Stock Exchange, for the ticker AFX_X, for the whole year 2017 (keep in mind that the date format is YYYY-MM-DD).\n",
    "2. Convert the returned JSON object into a Python dictionary.\n",
    "3. Calculate what the highest and lowest opening prices were for the stock in this period.\n",
    "4. What was the largest change in any one day (based on High and Low price)?\n",
    "5. What was the largest change between any two days (based on Closing Price)?\n",
    "6. What was the average daily trading volume during this year?\n",
    "7. (Optional) What was the median trading volume during this year. (Note: you may need to implement your own function for calculating the median.)"
   ]
  },
  {
   "cell_type": "code",
   "execution_count": 51,
   "metadata": {},
   "outputs": [],
   "source": [
    "url_2017 = \"https://www.quandl.com/api/v3/datasets/FSE/AFX_X/data.json?start_date=2017-01-01&end_date=2017-12-31&api_key=\" + API_KEY\n",
    "r_year = requests.get(url_2017)\n",
    "dict2017 = r_year.json()\n"
   ]
  },
  {
   "cell_type": "code",
   "execution_count": 63,
   "metadata": {},
   "outputs": [],
   "source": [
    "column_names = json2017['dataset_data']['column_names']\n",
    "data = json2017['dataset_data']['data']\n",
    "\n",
    "d = {}\n",
    "for col in range(len(column_names)):\n",
    "    d[column_names[col]] = []\n",
    "    for item in range(len(data)):\n",
    "        d[column_names[col]].append(data[item][col])\n"
   ]
  },
  {
   "cell_type": "code",
   "execution_count": 73,
   "metadata": {},
   "outputs": [
    {
     "name": "stdout",
     "output_type": "stream",
     "text": [
      "dict_keys(['Date', 'Open', 'High', 'Low', 'Close', 'Change', 'Traded Volume', 'Turnover', 'Last Price of the Day', 'Daily Traded Units', 'Daily Turnover'])\n",
      "[51.76, 51.65, 51.45, 51.05, 51.16, 51.88, 52.73, 52.37, 52.7, 53.11, 52.64, 52.29, 52.28, 51.5, 50.89, 50.8, 51.21, 49.5, 49.52, 48.64, 49.64, 49.09, 49.13, 49.11, 48.8, 48.4, 47.25, 46.57, 47.03, 47.09, 47.98, 48.4, 48.38, 47.3, 47.65, 46.42, 46.16, 45.81, 45.0, 45.88, 46.29, 46.53, 45.48, 45.2, 45.01, 45.16, 44.9, 45.08, 45.72, 46.01, 45.8, 45.61, 45.5, 45.58, 45.97, 45.64, 46.2, 46.19, 46.01, 45.36, 44.51, 43.58, 42.0, 42.35, 42.3, 42.3, 41.48, 42.29, 42.54, 42.65, 42.5, 42.29, 42.35, 42.49, 43.21, 42.81, 42.7, 43.0, 42.66, 43.0, 42.38, 42.16, 42.0, 42.0, 41.71, 42.11, 42.64, 42.72, 42.82, 42.46, 42.42, 42.28, 41.88, 42.4, 42.53, 42.12, 41.3, 41.73, 43.5, 44.9, 45.85, 45.13, 45.34, 45.25, 45.24, 44.94, 45.26, 45.16, 44.91, 44.7, 45.31, 45.57, 45.74, 45.06, 45.5, 45.6, 45.07, 44.67, 44.29, 44.94, 44.64, 44.79, 45.5, 44.67, 45.83, 45.29, 45.01, 45.73, 46.68, 47.23, 46.95, 47.29, 47.03, 47.46, 46.48, 46.9, 45.66, 46.34, 46.52, 46.5, 47.31, 46.77, 47.8, 47.01, 47.12, 46.8, 46.12, 45.22, 45.05, 45.61, 44.8, 44.8, 43.92, 43.67, 44.16, 43.74, 44.0, 45.06, 45.15, 45.09, 45.18, 43.4, 43.5, 41.83, 43.0, 42.52, 41.86, 42.2, 41.89, None, 42.17, 41.51, 41.88, 41.93, 42.01, 41.97, 42.5, 41.94, 42.24, None, None, 42.06, 42.02, 41.62, 41.46, 40.9, 40.96, 41.1, 39.5, 40.15, 39.77, 40.02, 39.39, 38.95, 38.73, 38.94, 39.01, 38.25, 41.8, 41.26, 41.47, 41.4, 41.4, 41.2, 41.4, 41.53, 41.61, 41.13, 41.5, 41.25, 41.12, 41.38, 41.19, 40.38, 39.75, 39.77, 39.72, 39.6, 38.85, 39.25, 38.8, 38.8, 38.5, 38.81, 37.37, 36.65, 36.2, 35.98, 35.56, 36.06, 36.02, 35.95, 34.75, 35.24, 35.38, 34.83, 35.07, 34.42, 34.0, 34.04, 34.54, 35.04, 35.04, 35.06, 34.85, 34.98, 35.38, 34.95, 34.8, 35.29, 34.91, 35.02, 35.48, 35.9, 34.99]\n"
     ]
    }
   ],
   "source": [
    "print(d.keys())\n",
    "print(d['Open'])"
   ]
  },
  {
   "cell_type": "code",
   "execution_count": 94,
   "metadata": {},
   "outputs": [
    {
     "name": "stdout",
     "output_type": "stream",
     "text": [
      "Max Open is: $53.11\n",
      "Min Open is: $34.0\n"
     ]
    }
   ],
   "source": [
    "max_open = 0\n",
    "min_open = 250\n",
    "for item in d['Open']:\n",
    "    if item == None:\n",
    "        continue\n",
    "    elif item > max_open:\n",
    "        max_open = item\n",
    "for item in d['Open']:\n",
    "    if item == None:\n",
    "        continue\n",
    "    elif item < min_open:\n",
    "        min_open = item\n",
    "print('Max Open is: $' + str(max_open))\n",
    "print('Min Open is: $' + str(min_open))"
   ]
  },
  {
   "cell_type": "code",
   "execution_count": 95,
   "metadata": {},
   "outputs": [
    {
     "name": "stdout",
     "output_type": "stream",
     "text": [
      "Max Change is: $2.81\n"
     ]
    }
   ],
   "source": [
    "max_change = 0\n",
    "for item in range(len(d['Open'])):\n",
    "    change = round(d['High'][item] - d['Low'][item],2)\n",
    "    if d['High'][item] == None or d['Low'][item] == None:\n",
    "        continue\n",
    "    elif change > max_change:\n",
    "        max_change = change\n",
    "    \n",
    "print('Max Change is: $' +str(max_change))\n"
   ]
  },
  {
   "cell_type": "code",
   "execution_count": 107,
   "metadata": {},
   "outputs": [
    {
     "name": "stdout",
     "output_type": "stream",
     "text": [
      "Max Change is: $-2.56\n"
     ]
    }
   ],
   "source": [
    "day_change = 0\n",
    "for item in range(len(d['Open'])-1):\n",
    "    change = round(d['Close'][item] - d['Close'][item+1],2)\n",
    "    if d['Close'][item] == None:\n",
    "        continue\n",
    "    elif abs(change) > abs(day_change):\n",
    "        day_change = change\n",
    "    \n",
    "    \n",
    "print('Max Change is: $' +str(day_change))"
   ]
  },
  {
   "cell_type": "code",
   "execution_count": 113,
   "metadata": {},
   "outputs": [
    {
     "name": "stdout",
     "output_type": "stream",
     "text": [
      "Average Traded Volume is: 89124\n"
     ]
    }
   ],
   "source": [
    "tv_sum = 0\n",
    "for tv in d['Traded Volume']:\n",
    "    tv_sum += tv\n",
    "average_tv = tv_sum / len(d['Traded Volume'])\n",
    "print('Average Traded Volume is: ' +str(round(average_tv)))"
   ]
  },
  {
   "cell_type": "code",
   "execution_count": 124,
   "metadata": {},
   "outputs": [
    {
     "name": "stdout",
     "output_type": "stream",
     "text": [
      "Median Traded Volume is: 75630\n"
     ]
    }
   ],
   "source": [
    "len(d['Traded Volume']) / 2 #127.5\n",
    "tv_sorted = sorted(d['Traded Volume'])\n",
    "tv_median = (tv_sorted[126] + tv_sorted[127]) / 2\n",
    "\n",
    "print('Median Traded Volume is: ' + str(round(tv_median)))\n"
   ]
  }
 ],
 "metadata": {
  "kernelspec": {
   "display_name": "Python 3",
   "language": "python",
   "name": "python3"
  },
  "language_info": {
   "codemirror_mode": {
    "name": "ipython",
    "version": 3
   },
   "file_extension": ".py",
   "mimetype": "text/x-python",
   "name": "python",
   "nbconvert_exporter": "python",
   "pygments_lexer": "ipython3",
   "version": "3.7.6"
  }
 },
 "nbformat": 4,
 "nbformat_minor": 2
}
